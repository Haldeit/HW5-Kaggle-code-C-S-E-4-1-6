{
  "nbformat": 4,
  "nbformat_minor": 0,
  "metadata": {
    "colab": {
      "name": "Copy of HW6-Kaggle.ipynb",
      "provenance": [],
      "collapsed_sections": [],
      "include_colab_link": true
    },
    "kernelspec": {
      "name": "python3",
      "display_name": "Python 3"
    },
    "language_info": {
      "name": "python"
    }
  },
  "cells": [
    {
      "cell_type": "markdown",
      "metadata": {
        "id": "view-in-github",
        "colab_type": "text"
      },
      "source": [
        "<a href=\"https://colab.research.google.com/github/Haldeit/HW5-Kaggle-code-C-S-E-4-1-6/blob/main/Copy_of_HW6_Kaggle.ipynb\" target=\"_parent\"><img src=\"https://colab.research.google.com/assets/colab-badge.svg\" alt=\"Open In Colab\"/></a>"
      ]
    },
    {
      "cell_type": "code",
      "metadata": {
        "id": "4WRff5x-3TYI"
      },
      "source": [
        "# This cell is necessary only if you are running on Google Colab. It downloads the files to your\n",
        "# Colab instance so you don't have to upload them here.\n",
        "\n",
        "import requests\n",
        "\n",
        "def save_file(url, file_name):\n",
        "    r = requests.get(url)\n",
        "    with open(file_name, 'wb') as f:\n",
        "      f.write(r.content)\n",
        "\n",
        "save_file('https://courses.cs.washington.edu/courses/cse416/21sp/homework/hw6/edx_train.csv', \n",
        "          'edx_train.csv')\n",
        "save_file('https://courses.cs.washington.edu/courses/cse416/21sp/homework/hw6/edx_test.csv', \n",
        "          'edx_test.csv')"
      ],
      "execution_count": null,
      "outputs": []
    },
    {
      "cell_type": "markdown",
      "metadata": {
        "id": "2poIBZPgLbNk"
      },
      "source": [
        "First let's import whatever that's helpful!"
      ]
    },
    {
      "cell_type": "code",
      "metadata": {
        "id": "G8I5K5PO4M-u"
      },
      "source": [
        "import math\n",
        "import string\n",
        "\n",
        "import matplotlib.pyplot as plt\n",
        "import numpy as np\n",
        "import pandas as pd\n",
        "import seaborn as sns\n",
        "\n",
        "\n",
        "from datetime import datetime\n",
        "from sklearn.linear_model import LogisticRegression\n",
        "from sklearn.tree import DecisionTreeClassifier\n",
        "from sklearn.metrics import accuracy_score\n",
        "from sklearn.model_selection import train_test_split\n",
        "from sklearn.feature_extraction.text import CountVectorizer\n",
        "from sklearn.feature_extraction import DictVectorizer"
      ],
      "execution_count": null,
      "outputs": []
    },
    {
      "cell_type": "markdown",
      "metadata": {
        "id": "ehBywiUJMwlm"
      },
      "source": [
        "Now let's read the files and take a peek at them."
      ]
    },
    {
      "cell_type": "code",
      "metadata": {
        "colab": {
          "base_uri": "https://localhost:8080/",
          "height": 261
        },
        "id": "5Am15nHMLq9P",
        "outputId": "a9056846-ce07-4539-d07f-f29d4a64f4ad"
      },
      "source": [
        "train = pd.read_csv('edx_train.csv')\n",
        "test = pd.read_csv('edx_test.csv')\n",
        "\n",
        "train = train.fillna(0)\n",
        "test = test.fillna(0)\n",
        "train.head()\n",
        "#test.head()"
      ],
      "execution_count": null,
      "outputs": [
        {
          "output_type": "execute_result",
          "data": {
            "text/html": [
              "<div>\n",
              "<style scoped>\n",
              "    .dataframe tbody tr th:only-of-type {\n",
              "        vertical-align: middle;\n",
              "    }\n",
              "\n",
              "    .dataframe tbody tr th {\n",
              "        vertical-align: top;\n",
              "    }\n",
              "\n",
              "    .dataframe thead th {\n",
              "        text-align: right;\n",
              "    }\n",
              "</style>\n",
              "<table border=\"1\" class=\"dataframe\">\n",
              "  <thead>\n",
              "    <tr style=\"text-align: right;\">\n",
              "      <th></th>\n",
              "      <th>course_id</th>\n",
              "      <th>userid_DI</th>\n",
              "      <th>registered</th>\n",
              "      <th>viewed</th>\n",
              "      <th>explored</th>\n",
              "      <th>certified</th>\n",
              "      <th>final_cc_cname_DI</th>\n",
              "      <th>LoE_DI</th>\n",
              "      <th>YoB</th>\n",
              "      <th>gender</th>\n",
              "      <th>grade</th>\n",
              "      <th>start_time_DI</th>\n",
              "      <th>last_event_DI</th>\n",
              "      <th>nevents</th>\n",
              "      <th>ndays_act</th>\n",
              "      <th>nplay_video</th>\n",
              "      <th>nchapters</th>\n",
              "      <th>nforum_posts</th>\n",
              "    </tr>\n",
              "  </thead>\n",
              "  <tbody>\n",
              "    <tr>\n",
              "      <th>0</th>\n",
              "      <td>HarvardX/CS50x/2012</td>\n",
              "      <td>MHxPC130545492</td>\n",
              "      <td>1</td>\n",
              "      <td>1</td>\n",
              "      <td>1</td>\n",
              "      <td>1</td>\n",
              "      <td>United States</td>\n",
              "      <td>Master's</td>\n",
              "      <td>1984.0</td>\n",
              "      <td>m</td>\n",
              "      <td>1</td>\n",
              "      <td>3/10/13</td>\n",
              "      <td>7/29/13</td>\n",
              "      <td>1161.0</td>\n",
              "      <td>50.0</td>\n",
              "      <td>0.0</td>\n",
              "      <td>12.0</td>\n",
              "      <td>0</td>\n",
              "    </tr>\n",
              "    <tr>\n",
              "      <th>1</th>\n",
              "      <td>HarvardX/ER22x/2013_Spring</td>\n",
              "      <td>MHxPC130536944</td>\n",
              "      <td>1</td>\n",
              "      <td>1</td>\n",
              "      <td>1</td>\n",
              "      <td>1</td>\n",
              "      <td>United Kingdom</td>\n",
              "      <td>Master's</td>\n",
              "      <td>1985.0</td>\n",
              "      <td>f</td>\n",
              "      <td>0.85</td>\n",
              "      <td>3/13/13</td>\n",
              "      <td>8/1/13</td>\n",
              "      <td>1360.0</td>\n",
              "      <td>10.0</td>\n",
              "      <td>0.0</td>\n",
              "      <td>29.0</td>\n",
              "      <td>0</td>\n",
              "    </tr>\n",
              "    <tr>\n",
              "      <th>2</th>\n",
              "      <td>HarvardX/CS50x/2012</td>\n",
              "      <td>MHxPC130442298</td>\n",
              "      <td>1</td>\n",
              "      <td>1</td>\n",
              "      <td>1</td>\n",
              "      <td>1</td>\n",
              "      <td>India</td>\n",
              "      <td>0</td>\n",
              "      <td>0.0</td>\n",
              "      <td>0</td>\n",
              "      <td>1</td>\n",
              "      <td>8/2/12</td>\n",
              "      <td>7/25/13</td>\n",
              "      <td>77.0</td>\n",
              "      <td>18.0</td>\n",
              "      <td>0.0</td>\n",
              "      <td>7.0</td>\n",
              "      <td>0</td>\n",
              "    </tr>\n",
              "    <tr>\n",
              "      <th>3</th>\n",
              "      <td>HarvardX/ER22x/2013_Spring</td>\n",
              "      <td>MHxPC130273564</td>\n",
              "      <td>1</td>\n",
              "      <td>1</td>\n",
              "      <td>1</td>\n",
              "      <td>1</td>\n",
              "      <td>United Kingdom</td>\n",
              "      <td>Bachelor's</td>\n",
              "      <td>1982.0</td>\n",
              "      <td>m</td>\n",
              "      <td>0.85</td>\n",
              "      <td>1/23/13</td>\n",
              "      <td>8/13/13</td>\n",
              "      <td>1425.0</td>\n",
              "      <td>29.0</td>\n",
              "      <td>0.0</td>\n",
              "      <td>34.0</td>\n",
              "      <td>0</td>\n",
              "    </tr>\n",
              "    <tr>\n",
              "      <th>4</th>\n",
              "      <td>HarvardX/CS50x/2012</td>\n",
              "      <td>MHxPC130247761</td>\n",
              "      <td>1</td>\n",
              "      <td>1</td>\n",
              "      <td>0</td>\n",
              "      <td>0</td>\n",
              "      <td>United States</td>\n",
              "      <td>Secondary</td>\n",
              "      <td>1989.0</td>\n",
              "      <td>m</td>\n",
              "      <td>0</td>\n",
              "      <td>3/5/13</td>\n",
              "      <td>3/5/13</td>\n",
              "      <td>6.0</td>\n",
              "      <td>1.0</td>\n",
              "      <td>0.0</td>\n",
              "      <td>1.0</td>\n",
              "      <td>0</td>\n",
              "    </tr>\n",
              "  </tbody>\n",
              "</table>\n",
              "</div>"
            ],
            "text/plain": [
              "                    course_id       userid_DI  ...  nchapters  nforum_posts\n",
              "0         HarvardX/CS50x/2012  MHxPC130545492  ...       12.0             0\n",
              "1  HarvardX/ER22x/2013_Spring  MHxPC130536944  ...       29.0             0\n",
              "2         HarvardX/CS50x/2012  MHxPC130442298  ...        7.0             0\n",
              "3  HarvardX/ER22x/2013_Spring  MHxPC130273564  ...       34.0             0\n",
              "4         HarvardX/CS50x/2012  MHxPC130247761  ...        1.0             0\n",
              "\n",
              "[5 rows x 18 columns]"
            ]
          },
          "metadata": {
            "tags": []
          },
          "execution_count": 4
        }
      ]
    },
    {
      "cell_type": "markdown",
      "metadata": {
        "id": "b5uBtITGQYh5"
      },
      "source": [
        "#**Identifying target and feature choosing**\n",
        "\n",
        "## Looks like the column \"certified\" is our target.\n",
        "\n",
        "## It seems like everyone has \"registered\" the courses listed, otherwise they wouldn't even appear on this form! \n",
        "\n",
        "## Views, explores, grade, and all the Ns are definitely important features, it shows at least how interested students are in the course and their devotion. One more label I am interested is the length of the course, we could compute this by subtracting start date from end date.\n",
        "\n",
        "## There are another three labels: gender, age, and nationality that might play some role. We'll have to see that in the next classifier.\n",
        "\n",
        "#*Creating the new date column for both train and test*\n",
        "\n",
        "\n",
        "\n"
      ]
    },
    {
      "cell_type": "code",
      "metadata": {
        "colab": {
          "base_uri": "https://localhost:8080/",
          "height": 261
        },
        "id": "HwT90rZiaecY",
        "outputId": "8baacea5-bda2-4b4c-9fbe-0aff0a877e07"
      },
      "source": [
        "train[['start_time_DI','last_event_DI']] = train[['start_time_DI','last_event_DI']].apply(pd.to_datetime)\n",
        "train['length'] = (train['last_event_DI'] - train['start_time_DI']).dt.days\n",
        "\n",
        "test[['start_time_DI','last_event_DI']] = test[['start_time_DI','last_event_DI']].apply(pd.to_datetime)\n",
        "test['length'] = (test['last_event_DI'] - test['start_time_DI']).dt.days\n",
        "\n",
        "train.head()\n",
        "#test.head()"
      ],
      "execution_count": null,
      "outputs": [
        {
          "output_type": "execute_result",
          "data": {
            "text/html": [
              "<div>\n",
              "<style scoped>\n",
              "    .dataframe tbody tr th:only-of-type {\n",
              "        vertical-align: middle;\n",
              "    }\n",
              "\n",
              "    .dataframe tbody tr th {\n",
              "        vertical-align: top;\n",
              "    }\n",
              "\n",
              "    .dataframe thead th {\n",
              "        text-align: right;\n",
              "    }\n",
              "</style>\n",
              "<table border=\"1\" class=\"dataframe\">\n",
              "  <thead>\n",
              "    <tr style=\"text-align: right;\">\n",
              "      <th></th>\n",
              "      <th>course_id</th>\n",
              "      <th>userid_DI</th>\n",
              "      <th>registered</th>\n",
              "      <th>viewed</th>\n",
              "      <th>explored</th>\n",
              "      <th>certified</th>\n",
              "      <th>final_cc_cname_DI</th>\n",
              "      <th>LoE_DI</th>\n",
              "      <th>YoB</th>\n",
              "      <th>gender</th>\n",
              "      <th>grade</th>\n",
              "      <th>start_time_DI</th>\n",
              "      <th>last_event_DI</th>\n",
              "      <th>nevents</th>\n",
              "      <th>ndays_act</th>\n",
              "      <th>nplay_video</th>\n",
              "      <th>nchapters</th>\n",
              "      <th>nforum_posts</th>\n",
              "      <th>length</th>\n",
              "    </tr>\n",
              "  </thead>\n",
              "  <tbody>\n",
              "    <tr>\n",
              "      <th>0</th>\n",
              "      <td>HarvardX/CS50x/2012</td>\n",
              "      <td>MHxPC130545492</td>\n",
              "      <td>1</td>\n",
              "      <td>1</td>\n",
              "      <td>1</td>\n",
              "      <td>1</td>\n",
              "      <td>United States</td>\n",
              "      <td>Master's</td>\n",
              "      <td>1984.0</td>\n",
              "      <td>m</td>\n",
              "      <td>1</td>\n",
              "      <td>2013-03-10</td>\n",
              "      <td>2013-07-29</td>\n",
              "      <td>1161.0</td>\n",
              "      <td>50.0</td>\n",
              "      <td>0.0</td>\n",
              "      <td>12.0</td>\n",
              "      <td>0</td>\n",
              "      <td>141</td>\n",
              "    </tr>\n",
              "    <tr>\n",
              "      <th>1</th>\n",
              "      <td>HarvardX/ER22x/2013_Spring</td>\n",
              "      <td>MHxPC130536944</td>\n",
              "      <td>1</td>\n",
              "      <td>1</td>\n",
              "      <td>1</td>\n",
              "      <td>1</td>\n",
              "      <td>United Kingdom</td>\n",
              "      <td>Master's</td>\n",
              "      <td>1985.0</td>\n",
              "      <td>f</td>\n",
              "      <td>0.85</td>\n",
              "      <td>2013-03-13</td>\n",
              "      <td>2013-08-01</td>\n",
              "      <td>1360.0</td>\n",
              "      <td>10.0</td>\n",
              "      <td>0.0</td>\n",
              "      <td>29.0</td>\n",
              "      <td>0</td>\n",
              "      <td>141</td>\n",
              "    </tr>\n",
              "    <tr>\n",
              "      <th>2</th>\n",
              "      <td>HarvardX/CS50x/2012</td>\n",
              "      <td>MHxPC130442298</td>\n",
              "      <td>1</td>\n",
              "      <td>1</td>\n",
              "      <td>1</td>\n",
              "      <td>1</td>\n",
              "      <td>India</td>\n",
              "      <td>0</td>\n",
              "      <td>0.0</td>\n",
              "      <td>0</td>\n",
              "      <td>1</td>\n",
              "      <td>2012-08-02</td>\n",
              "      <td>2013-07-25</td>\n",
              "      <td>77.0</td>\n",
              "      <td>18.0</td>\n",
              "      <td>0.0</td>\n",
              "      <td>7.0</td>\n",
              "      <td>0</td>\n",
              "      <td>357</td>\n",
              "    </tr>\n",
              "    <tr>\n",
              "      <th>3</th>\n",
              "      <td>HarvardX/ER22x/2013_Spring</td>\n",
              "      <td>MHxPC130273564</td>\n",
              "      <td>1</td>\n",
              "      <td>1</td>\n",
              "      <td>1</td>\n",
              "      <td>1</td>\n",
              "      <td>United Kingdom</td>\n",
              "      <td>Bachelor's</td>\n",
              "      <td>1982.0</td>\n",
              "      <td>m</td>\n",
              "      <td>0.85</td>\n",
              "      <td>2013-01-23</td>\n",
              "      <td>2013-08-13</td>\n",
              "      <td>1425.0</td>\n",
              "      <td>29.0</td>\n",
              "      <td>0.0</td>\n",
              "      <td>34.0</td>\n",
              "      <td>0</td>\n",
              "      <td>202</td>\n",
              "    </tr>\n",
              "    <tr>\n",
              "      <th>4</th>\n",
              "      <td>HarvardX/CS50x/2012</td>\n",
              "      <td>MHxPC130247761</td>\n",
              "      <td>1</td>\n",
              "      <td>1</td>\n",
              "      <td>0</td>\n",
              "      <td>0</td>\n",
              "      <td>United States</td>\n",
              "      <td>Secondary</td>\n",
              "      <td>1989.0</td>\n",
              "      <td>m</td>\n",
              "      <td>0</td>\n",
              "      <td>2013-03-05</td>\n",
              "      <td>2013-03-05</td>\n",
              "      <td>6.0</td>\n",
              "      <td>1.0</td>\n",
              "      <td>0.0</td>\n",
              "      <td>1.0</td>\n",
              "      <td>0</td>\n",
              "      <td>0</td>\n",
              "    </tr>\n",
              "  </tbody>\n",
              "</table>\n",
              "</div>"
            ],
            "text/plain": [
              "                    course_id       userid_DI  ...  nforum_posts  length\n",
              "0         HarvardX/CS50x/2012  MHxPC130545492  ...             0     141\n",
              "1  HarvardX/ER22x/2013_Spring  MHxPC130536944  ...             0     141\n",
              "2         HarvardX/CS50x/2012  MHxPC130442298  ...             0     357\n",
              "3  HarvardX/ER22x/2013_Spring  MHxPC130273564  ...             0     202\n",
              "4         HarvardX/CS50x/2012  MHxPC130247761  ...             0       0\n",
              "\n",
              "[5 rows x 19 columns]"
            ]
          },
          "metadata": {
            "tags": []
          },
          "execution_count": 5
        }
      ]
    },
    {
      "cell_type": "markdown",
      "metadata": {
        "id": "TNeuldaPh_UM"
      },
      "source": [
        "#**Now, we select first set of features and give it a train!**"
      ]
    },
    {
      "cell_type": "code",
      "metadata": {
        "colab": {
          "base_uri": "https://localhost:8080/"
        },
        "id": "2RB-2GRjjNDO",
        "outputId": "11078cde-abfd-451f-acce-528bedc0dbad"
      },
      "source": [
        "features_1 = ['viewed', 'explored', 'nevents', 'ndays_act', 'nplay_video', 'nchapters', 'nforum_posts', 'length']\n",
        "\n",
        "model_1 = LogisticRegression(penalty='l2', random_state=1, C=1)\n",
        "model_1.fit(train[features_1], train['certified'])"
      ],
      "execution_count": null,
      "outputs": [
        {
          "output_type": "stream",
          "text": [
            "/usr/local/lib/python3.7/dist-packages/sklearn/linear_model/_logistic.py:940: ConvergenceWarning: lbfgs failed to converge (status=1):\n",
            "STOP: TOTAL NO. of ITERATIONS REACHED LIMIT.\n",
            "\n",
            "Increase the number of iterations (max_iter) or scale the data as shown in:\n",
            "    https://scikit-learn.org/stable/modules/preprocessing.html\n",
            "Please also refer to the documentation for alternative solver options:\n",
            "    https://scikit-learn.org/stable/modules/linear_model.html#logistic-regression\n",
            "  extra_warning_msg=_LOGISTIC_SOLVER_CONVERGENCE_MSG)\n"
          ],
          "name": "stderr"
        },
        {
          "output_type": "execute_result",
          "data": {
            "text/plain": [
              "LogisticRegression(C=1, class_weight=None, dual=False, fit_intercept=True,\n",
              "                   intercept_scaling=1, l1_ratio=None, max_iter=100,\n",
              "                   multi_class='auto', n_jobs=None, penalty='l2',\n",
              "                   random_state=1, solver='lbfgs', tol=0.0001, verbose=0,\n",
              "                   warm_start=False)"
            ]
          },
          "metadata": {
            "tags": []
          },
          "execution_count": 6
        }
      ]
    },
    {
      "cell_type": "markdown",
      "metadata": {
        "id": "NlIAJkJ7mSEK"
      },
      "source": [
        "Now compute the train error for our model_1"
      ]
    },
    {
      "cell_type": "code",
      "metadata": {
        "colab": {
          "base_uri": "https://localhost:8080/"
        },
        "id": "fMuV3nncmg6t",
        "outputId": "7a03becb-63f8-4a64-8c94-2bb3ef7f281d"
      },
      "source": [
        "train_pred_1 = model_1.predict(train[features_1])\n",
        "train_acc_1 = accuracy_score(train['certified'], train_pred_1)\n",
        "\n",
        "print(\"Train: \", train_acc_1)"
      ],
      "execution_count": null,
      "outputs": [
        {
          "output_type": "stream",
          "text": [
            "Train:  0.9462205983101165\n"
          ],
          "name": "stdout"
        }
      ]
    },
    {
      "cell_type": "markdown",
      "metadata": {
        "id": "VZREjYWunYRE"
      },
      "source": [
        "As we can see we did okay. However, this is just the training set. Maybe we should add validation set as well! Then we do the similar procedure! (train and calculate validation accuracy)"
      ]
    },
    {
      "cell_type": "code",
      "metadata": {
        "colab": {
          "base_uri": "https://localhost:8080/"
        },
        "id": "tBAn3dRMng9l",
        "outputId": "7b145f82-4aaa-4e8b-e578-2d8d934bf0e8"
      },
      "source": [
        "train, val = train_test_split(train, test_size=0.2, random_state=1)\n",
        "model_2 = LogisticRegression(penalty='l2', random_state=1, C=1)\n",
        "model_2.fit(train[features_1], train['certified'])\n",
        "\n",
        "train_pred_2 = model_2.predict(train[features_1])\n",
        "train_acc_2 = accuracy_score(train['certified'], train_pred_2)\n",
        "val_pred_2 = model_2.predict(val[features_1])\n",
        "val_acc_2 = accuracy_score(val['certified'], val_pred_2)\n",
        "\n",
        "print(\"Train: \", train_acc_2)\n",
        "print(\"Validation: \", val_acc_2)\n",
        "\n"
      ],
      "execution_count": null,
      "outputs": [
        {
          "output_type": "stream",
          "text": [
            "Train:  0.94376248929489\n",
            "Validation:  0.954337899543379\n"
          ],
          "name": "stdout"
        },
        {
          "output_type": "stream",
          "text": [
            "/usr/local/lib/python3.7/dist-packages/sklearn/linear_model/_logistic.py:940: ConvergenceWarning: lbfgs failed to converge (status=1):\n",
            "STOP: TOTAL NO. of ITERATIONS REACHED LIMIT.\n",
            "\n",
            "Increase the number of iterations (max_iter) or scale the data as shown in:\n",
            "    https://scikit-learn.org/stable/modules/preprocessing.html\n",
            "Please also refer to the documentation for alternative solver options:\n",
            "    https://scikit-learn.org/stable/modules/linear_model.html#logistic-regression\n",
            "  extra_warning_msg=_LOGISTIC_SOLVER_CONVERGENCE_MSG)\n"
          ],
          "name": "stderr"
        }
      ]
    },
    {
      "cell_type": "markdown",
      "metadata": {
        "id": "XUNoD6AGPpmg"
      },
      "source": [
        "#Let's use decision tree classifier instead!"
      ]
    },
    {
      "cell_type": "code",
      "metadata": {
        "id": "OHaIt3aTPyL8",
        "colab": {
          "base_uri": "https://localhost:8080/"
        },
        "outputId": "c779eec2-884e-4563-ef36-3723e792a065"
      },
      "source": [
        "model_3 = DecisionTreeClassifier(max_depth=5,random_state=1, min_samples_leaf=20)\n",
        "model_3.fit(train[features_1], train['certified'])\n",
        "\n",
        "train_pred_3 = model_3.predict(train[features_1])\n",
        "train_acc_3 = accuracy_score(train['certified'], train_pred_3)\n",
        "val_pred_3 = model_3.predict(val[features_1])\n",
        "val_acc_3 = accuracy_score(val['certified'], val_pred_3)\n",
        "\n",
        "print(\"Train: \", train_acc_3)\n",
        "print(\"Validation: \", val_acc_3)"
      ],
      "execution_count": null,
      "outputs": [
        {
          "output_type": "stream",
          "text": [
            "Train:  0.9674564658863831\n",
            "Validation:  0.9765981735159818\n"
          ],
          "name": "stdout"
        }
      ]
    },
    {
      "cell_type": "markdown",
      "metadata": {
        "id": "jeCkij04Tavy"
      },
      "source": [
        "# Looks like we are doing better! What if we try different max depth?\n",
        "now we use 5-fold since we splitted the train and validation by 80 20 before."
      ]
    },
    {
      "cell_type": "code",
      "metadata": {
        "id": "e3c6v6yfT0Bb",
        "colab": {
          "base_uri": "https://localhost:8080/"
        },
        "outputId": "68a3e5f3-0cf2-46f9-f782-0632dcc3f7a8"
      },
      "source": [
        "from sklearn.model_selection import GridSearchCV\n",
        "# this is very similar to HW4\n",
        "hyperparameters = {'min_samples_leaf': [1, 10, 50, 100, 200, 300], 'max_depth': [1, 5, 10, 15, 20]}\n",
        "\n",
        "search = GridSearchCV(estimator=DecisionTreeClassifier(), param_grid=hyperparameters, cv=5, return_train_score=True)\n",
        "search.fit(train[features_1], train['certified'])\n",
        "print(search.best_params_)"
      ],
      "execution_count": null,
      "outputs": [
        {
          "output_type": "stream",
          "text": [
            "{'max_depth': 5, 'min_samples_leaf': 10}\n"
          ],
          "name": "stdout"
        }
      ]
    },
    {
      "cell_type": "markdown",
      "metadata": {
        "id": "yfjaKwrxU1LQ"
      },
      "source": [
        "#Now let's do everything again with the optimized parameters!"
      ]
    },
    {
      "cell_type": "code",
      "metadata": {
        "id": "kdl8YzL-U1a4",
        "colab": {
          "base_uri": "https://localhost:8080/"
        },
        "outputId": "407f08d6-0b9c-41f0-fea5-7cdcbd300543"
      },
      "source": [
        "model_final = DecisionTreeClassifier(max_depth=5,random_state=1, min_samples_leaf=10)\n",
        "model_final.fit(train[features_1], train['certified'])\n",
        "\n",
        "train_pred_final = model_final.predict(train[features_1])\n",
        "train_acc_final = accuracy_score(train['certified'], train_pred_final)\n",
        "val_pred_final = model_final.predict(val[features_1])\n",
        "val_acc_final = accuracy_score(val['certified'], val_pred_final)\n",
        "test_pred_final = model_final.predict(test[features_1])\n",
        "\n",
        "print(\"Train: \", train_acc_3)\n",
        "print(\"Validation: \", val_acc_3)"
      ],
      "execution_count": null,
      "outputs": [
        {
          "output_type": "stream",
          "text": [
            "Train:  0.9674564658863831\n",
            "Validation:  0.9765981735159818\n"
          ],
          "name": "stdout"
        }
      ]
    },
    {
      "cell_type": "markdown",
      "metadata": {
        "id": "5sHheGqyXIoV"
      },
      "source": [
        "# Finally let's print the result!"
      ]
    },
    {
      "cell_type": "code",
      "metadata": {
        "id": "MP1kiLFPXI7a"
      },
      "source": [
        "to_save = test[['userid_DI']].copy()\n",
        "to_save.loc[:, 'certified'] = test_pred_final\n",
        "to_save.to_csv('submission.csv', index=False)"
      ],
      "execution_count": null,
      "outputs": []
    }
  ]
}